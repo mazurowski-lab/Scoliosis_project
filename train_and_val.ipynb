{
 "cells": [
  {
   "cell_type": "code",
   "execution_count": null,
   "id": "8d7ab8c6-7b51-41d8-8efe-6e558ac89c02",
   "metadata": {},
   "outputs": [],
   "source": [
    "# Check Pytorch installation\n",
    "import torch, torchvision\n",
    "print(torch.__version__, torch.cuda.is_available())\n",
    "\n",
    "# Check MMDetection installation\n",
    "import mmdet\n",
    "print(mmdet.__version__)\n",
    "from mmcv import Config\n",
    "import mmcv\n",
    "from mmdet.apis import set_random_seed\n",
    "# Check mmcv installation\n",
    "from mmcv.ops import get_compiling_cuda_version, get_compiler_version\n",
    "from mmcv.runner import load_checkpoint\n",
    "from mmdet.apis import multi_gpu_test, single_gpu_test\n",
    "print(get_compiling_cuda_version())\n",
    "print(get_compiler_version())\n",
    "from mmdet.datasets import build_dataset, build_dataloader\n",
    "from mmdet.models import build_detector\n",
    "from mmdet.apis import train_detector\n",
    "import copy\n",
    "import os.path as osp\n",
    "from mmcv.parallel import MMDataParallel\n",
    "import mmcv\n",
    "import numpy as np\n",
    "import json\n",
    "import os\n",
    "from mmdet.datasets.builder import DATASETS\n",
    "from mmdet.datasets.custom import CustomDataset\n",
    "from mmdet.apis import inference_detector, init_detector, show_result_pyplot\n",
    "import matplotlib.pyplot as plt\n",
    "from pycocotools.coco import COCO"
   ]
  },
  {
   "cell_type": "markdown",
   "id": "ddb37939-370a-4415-8322-6e76ef7db2db",
   "metadata": {},
   "source": [
    "## Visualize the dataset"
   ]
  },
  {
   "cell_type": "code",
   "execution_count": null,
   "id": "274da7b1-b076-432e-9973-cd84d4107a36",
   "metadata": {},
   "outputs": [],
   "source": [
    "cfg = Config.fromfile('configs/spine/mask_rcnn_r50_fpn_4x_coco.py')\n",
    "datasets = [build_dataset(cfg.data.train)]\n",
    "datasets"
   ]
  },
  {
   "cell_type": "markdown",
   "id": "6ae366d1-f616-4a63-a2be-f41ec43bf63f",
   "metadata": {},
   "source": [
    "## Train the netwrok"
   ]
  },
  {
   "cell_type": "code",
   "execution_count": null,
   "id": "cc626bc7-1f70-4987-b2a5-10c004812a83",
   "metadata": {},
   "outputs": [],
   "source": [
    "cfg = Config.fromfile('configs/spine/mask_rcnn_r50_fpn_4x_coco.py')\n",
    "# Set up working dir to save files and logs.\n",
    "cfg.work_dir = 'work_dirs/mask_rcnn_r50_fpn_2x_coco_cp4'\n",
    "seed = 1\n",
    "# The original learning rate (LR) is set for 8-GPU training.\n",
    "# We divide it by 8 since we only use one GPU.\n",
    "cfg.optimizer.lr = 0.001\n",
    "#cfg.lr_config.warmup = 'linear'\n",
    "cfg.log_config.interval = 10\n",
    "\n",
    "# Change the evaluation metric since we use customized dataset.\n",
    "#cfg.evaluation.metric = 'mAP'\n",
    "# We can set the evaluation interval to reduce the evaluation times\n",
    "cfg.evaluation.interval = 12\n",
    "# We can set the checkpoint saving interval to reduce the storage cost\n",
    "cfg.checkpoint_config.interval = 24\n",
    "\n",
    "# Set seed thus the results are more reproducible\n",
    "cfg.seed = seed\n",
    "set_random_seed(seed, deterministic=False)\n",
    "cfg.gpu_ids = [0]\n",
    "# Build dataset\n",
    "datasets = [build_dataset(cfg.data.train)]\n",
    "\n",
    "# Build the detector\n",
    "model = build_detector(\n",
    "    cfg.model, train_cfg=cfg.get('train_cfg'), test_cfg=cfg.get('test_cfg'))\n",
    "model.init_weights()\n",
    "# Add an attribute for visualization convenience\n",
    "model.CLASSES = datasets[0].CLASSES\n",
    "\n",
    "# Create work_dir\n",
    "mmcv.mkdir_or_exist(osp.abspath(cfg.work_dir))\n",
    "train_detector(model, datasets, cfg, distributed=False, validate=True)"
   ]
  },
  {
   "cell_type": "markdown",
   "id": "d0c70ceb-d123-4a1e-8918-40ea379cdd52",
   "metadata": {},
   "source": [
    "## Evaluate the result"
   ]
  },
  {
   "cell_type": "code",
   "execution_count": null,
   "id": "b3dfae77-8ae8-4b57-b81f-9e2bf40521cc",
   "metadata": {},
   "outputs": [],
   "source": [
    "cfg = Config.fromfile('configs/spine/mask_rcnn_r50_fpn_4x_coco.py')\n",
    "# Set up working dir to save files and logs.\n",
    "cfg.work_dir = 'work_dirs/mask_rcnn_r50_fpn_2x_coco_cp4'\n",
    "dataset = build_dataset(cfg.data.test)\n",
    "checkpoint = cfg.work_dir +'/latest.pth'\n",
    "data_loader = build_dataloader(\n",
    "        dataset,\n",
    "        samples_per_gpu=cfg.data.val.pop('samples_per_gpu', 1),\n",
    "        workers_per_gpu=cfg.data.workers_per_gpu,\n",
    "        dist=False,\n",
    "        shuffle=False)\n",
    "cfg.model.train_cfg = None\n",
    "model = build_detector(cfg.model, test_cfg=cfg.get('test_cfg'))\n",
    "checkpoint = load_checkpoint(model, checkpoint, map_location='cpu')\n",
    "model.CLASSES = checkpoint['meta']['CLASSES']\n",
    "model = MMDataParallel(model, device_ids=[0])\n",
    "outputs = single_gpu_test(model, data_loader)\n",
    "metric = dataset.evaluate(outputs, metric=['bbox', 'segm'],classwise=True)"
   ]
  },
  {
   "cell_type": "markdown",
   "id": "7b675afe-989c-4e91-bbf7-743d5de3a2c5",
   "metadata": {},
   "source": [
    "## calculate dice for all cases"
   ]
  },
  {
   "cell_type": "code",
   "execution_count": null,
   "id": "8592d741-08c4-4d10-afbb-b077e1a948ee",
   "metadata": {},
   "outputs": [],
   "source": [
    "def dice(im1, im2):\n",
    "    \"\"\"\n",
    "    dice for images\n",
    "    \"\"\"\n",
    "    im1 = np.asarray(im1).astype(np.bool)\n",
    "    im2 = np.asarray(im2).astype(np.bool)\n",
    "\n",
    "    if im1.shape != im2.shape:\n",
    "        raise ValueError(\"im1 and im2 must have the same shape.\")\n",
    "\n",
    "    # Compute Dice coefficient\n",
    "    intersection = np.logical_and(im1, im2)\n",
    "\n",
    "    return 2. * intersection.sum() / (im1.sum() + im2.sum())"
   ]
  },
  {
   "cell_type": "code",
   "execution_count": null,
   "id": "48b6ed2a-54e1-43b9-b757-a2049a31e325",
   "metadata": {},
   "outputs": [],
   "source": [
    "label = COCO('raw_val_label.json')\n",
    "img_ids = label.getImgIds()\n",
    "dice_list = []\n",
    "for i in (img_ids):\n",
    "    img = label.imgs[i]\n",
    "    anns_id = label.getAnnIds(imgIds=img['id'])\n",
    "    file_name = img['file_name']\n",
    "    img = mmcv.imread('detection_images/val/' +file_name)\n",
    "    model.cfg = cfg\n",
    "    result = inference_detector(model, img)\n",
    "    anns = label.loadAnns(anns_id)\n",
    "    mask = label.annToMask(anns[0])\n",
    "    result_mask = result[1][0][0]\n",
    "    dice_list.append(dice(mask,result_mask))"
   ]
  },
  {
   "cell_type": "code",
   "execution_count": null,
   "id": "1934fe3e-b14f-4e3a-96cd-0c9ea9dec265",
   "metadata": {},
   "outputs": [],
   "source": [
    "np.array(dice_list).mean()"
   ]
  }
 ],
 "metadata": {
  "kernelspec": {
   "display_name": "Python 3 (ipykernel)",
   "language": "python",
   "name": "python3"
  },
  "language_info": {
   "codemirror_mode": {
    "name": "ipython",
    "version": 3
   },
   "file_extension": ".py",
   "mimetype": "text/x-python",
   "name": "python",
   "nbconvert_exporter": "python",
   "pygments_lexer": "ipython3",
   "version": "3.8.20"
  }
 },
 "nbformat": 4,
 "nbformat_minor": 5
}
